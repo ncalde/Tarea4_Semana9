{
 "cells": [
  {
   "cell_type": "markdown",
   "id": "legal-marks",
   "metadata": {},
   "source": [
    "# Ecuación de difusión en 1D por el método de Fourier"
   ]
  },
  {
   "cell_type": "markdown",
   "id": "domestic-values",
   "metadata": {},
   "source": [
    "## Importación de bibliotecas"
   ]
  },
  {
   "cell_type": "code",
   "execution_count": 17,
   "id": "institutional-andrew",
   "metadata": {},
   "outputs": [],
   "source": [
    "from ipywidgets import interactive\n",
    "import ipywidgets as widgets\n",
    "from IPython.display import display\n",
    " \n",
    "import numpy as np\n",
    "import scipy.integrate as integrate\n",
    "import matplotlib.pyplot as plt"
   ]
  },
  {
   "cell_type": "markdown",
   "id": "wired-china",
   "metadata": {},
   "source": [
    "## Variables globales"
   ]
  },
  {
   "cell_type": "code",
   "execution_count": 2,
   "id": "passive-polls",
   "metadata": {},
   "outputs": [],
   "source": [
    "D = 0.5\n",
    "Lx = 10.0\n",
    "A = 2.0\n",
    "x0 = 5.0\n",
    "l = 1.5"
   ]
  },
  {
   "cell_type": "markdown",
   "id": "friendly-consolidation",
   "metadata": {},
   "source": [
    "## Funciones"
   ]
  },
  {
   "cell_type": "code",
   "execution_count": 19,
   "id": "intermediate-blake",
   "metadata": {},
   "outputs": [],
   "source": [
    "def funcion(x,n):\n",
    "    \"\"\"\n",
    "    Función a integrar para encontrar los bn.\n",
    "    Parámetros:\n",
    "        x: variable espacial\n",
    "        n: indica el término a calcular\n",
    "    Salida:\n",
    "        función evaluada en x,n\n",
    "    \"\"\"\n",
    "    funcion = A*np.exp(-(x-x0)**2/l)*np.sin(n*np.pi*x/Lx)\n",
    "    return funcion"
   ]
  },
  {
   "cell_type": "code",
   "execution_count": 20,
   "id": "descending-difficulty",
   "metadata": {},
   "outputs": [],
   "source": [
    "def calcularB(n):\n",
    "    \"\"\"\n",
    "    Calcula el valor del bn\n",
    "    Parámetro:\n",
    "        n: indica el término a calcular\n",
    "    Salida:\n",
    "        b: valor de bn\n",
    "    \"\"\"\n",
    "    integral, error = integrate.quad(funcion,0,Lx,args=(n))\n",
    "    b = 2*integral/Lx\n",
    "    return b"
   ]
  },
  {
   "cell_type": "code",
   "execution_count": 24,
   "id": "domestic-maker",
   "metadata": {},
   "outputs": [],
   "source": [
    "def AproximarRho(x,t,numTerminos):\n",
    "    \"\"\"\n",
    "    Calcular el valor aproximado de rho en el punto (x,t)\n",
    "    Parámetros:\n",
    "        x: posición(es) en el eje x (variable espacial)\n",
    "        y: posición(es) en el eje t (variable temporal)\n",
    "        numTerminos: cantidad de términos a utilizar en la aproximación\n",
    "    Salidas:\n",
    "        valorAproxRho: valor(es) de rho en el punto (x,t)\n",
    "    \"\"\"\n",
    "    # Se inicializa el valorAproxRho\n",
    "    valorAproxRho = 0\n",
    "\n",
    "    # Se realiza la sumatoria hasta alcanzar el número de términos solicitado\n",
    "    for n in range(1, numTerminos+1):\n",
    "        b = calcularB(n)\n",
    "        valorAproxRho += b*np.exp(-((n*np.pi/Lx)**2)*t/D)*np.sin(n*np.pi*x/Lx)\n",
    "    return valorAproxRho"
   ]
  },
  {
   "cell_type": "code",
   "execution_count": 25,
   "id": "juvenile-detector",
   "metadata": {},
   "outputs": [],
   "source": [
    "def GraficarRho(puntosMalla,numTerminos):\n",
    "    \"\"\"\n",
    "    Calcula el valor aproximado de rho en todos los puntos de la malla y lo grafica\n",
    "    Parámetros:\n",
    "        puntosMalla: cantidad de puntos en cada eje de la malla\n",
    "        numTerminos: cantidad de términos a utilizar en la aproximación\n",
    "    Salida:\n",
    "        no aplica\n",
    "    \"\"\"\n",
    "    # Se define la malla\n",
    "    x = np.linspace(0,Lx,puntosMalla)\n",
    "    t = np.linspace(0,Lx,puntosMalla)\n",
    "    X,T = np.meshgrid(x,t)\n",
    "    Rho = AproximarRho(X, T, numTerminos)\n",
    "    \n",
    "    #Graficación\n",
    "    plt.figure(figsize=(10,6)) \n",
    "    ax = plt.axes(projection='3d')\n",
    "    ax.set_xlabel('x')\n",
    "    ax.set_ylabel('t')\n",
    "    ax.set_zlabel('rho')\n",
    "    ax.plot_surface(X, T, Rho, rstride=1, cstride=1, cmap='cividis', edgecolor='none')\n",
    "    ax.set_title('Aproximacion Rho')\n",
    "    plt.show()\n",
    "    \n",
    "    return"
   ]
  },
  {
   "cell_type": "markdown",
   "id": "classified-ozone",
   "metadata": {},
   "source": [
    "## Main"
   ]
  },
  {
   "cell_type": "code",
   "execution_count": 26,
   "id": "figured-artwork",
   "metadata": {},
   "outputs": [
    {
     "data": {
      "application/vnd.jupyter.widget-view+json": {
       "model_id": "01b8a57a7f58441f8c610479ad605d5a",
       "version_major": 2,
       "version_minor": 0
      },
      "text/plain": [
       "interactive(children=(IntSlider(value=30, description='Puntos Malla:', max=50, min=10, step=5), IntSlider(valu…"
      ]
     },
     "metadata": {},
     "output_type": "display_data"
    }
   ],
   "source": [
    "y=interactive(GraficarRho, {'manual': True}, puntosMalla=widgets.IntSlider(min=10.0, max=50.0, step=5.0, value=30.0, description='Puntos Malla:'),\n",
    "              numTerminos=widgets.IntSlider(min=10.0, max=150.0, step=25.0, value=25.0, description='# Términos:'))\n",
    "display(y)"
   ]
  }
 ],
 "metadata": {
  "kernelspec": {
   "display_name": "Python 3",
   "language": "python",
   "name": "python3"
  },
  "language_info": {
   "codemirror_mode": {
    "name": "ipython",
    "version": 3
   },
   "file_extension": ".py",
   "mimetype": "text/x-python",
   "name": "python",
   "nbconvert_exporter": "python",
   "pygments_lexer": "ipython3",
   "version": "3.8.3"
  }
 },
 "nbformat": 4,
 "nbformat_minor": 5
}
