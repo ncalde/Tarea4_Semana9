{
 "cells": [
  {
   "cell_type": "markdown",
   "id": "binding-millennium",
   "metadata": {},
   "source": [
    "# Ecuación de difusión en 1D por el método de Fourier"
   ]
  },
  {
   "cell_type": "markdown",
   "id": "southeast-action",
   "metadata": {},
   "source": [
    "## Importación de bibliotecas"
   ]
  },
  {
   "cell_type": "code",
   "execution_count": 1,
   "id": "weighted-harvey",
   "metadata": {},
   "outputs": [],
   "source": [
    "from ipywidgets import interactive\n",
    "import ipywidgets as widgets\n",
    "from IPython.display import display\n",
    " \n",
    "import numpy as np\n",
    "import scipy.integrate as integrate\n",
    "import matplotlib.pyplot as plt"
   ]
  },
  {
   "cell_type": "markdown",
   "id": "limited-table",
   "metadata": {},
   "source": [
    "## Variables globales"
   ]
  },
  {
   "cell_type": "code",
   "execution_count": 2,
   "id": "encouraging-completion",
   "metadata": {},
   "outputs": [],
   "source": [
    "# Se definen las variables requeridas para generar las soluciones, según los datos del ejercicio\n",
    "D = 0.5\n",
    "Lx = 10.0\n",
    "A = 2.0\n",
    "x0 = 5.0\n",
    "l = 1.5"
   ]
  },
  {
   "cell_type": "markdown",
   "id": "awful-substitute",
   "metadata": {},
   "source": [
    "## Funciones"
   ]
  },
  {
   "cell_type": "code",
   "execution_count": 3,
   "id": "interracial-portable",
   "metadata": {},
   "outputs": [],
   "source": [
    "def funcion(x,n):\n",
    "    \"\"\"\n",
    "    Función a integrar para encontrar los bn.\n",
    "    Parámetros:\n",
    "        x: variable espacial\n",
    "        n: indica el término a calcular\n",
    "    Salida:\n",
    "        función evaluada en x,n\n",
    "    \"\"\"\n",
    "    funcion = A*np.exp(-(x-x0)**2/l)*np.sin(n*np.pi*x/Lx)\n",
    "    return funcion"
   ]
  },
  {
   "cell_type": "code",
   "execution_count": 4,
   "id": "figured-naples",
   "metadata": {},
   "outputs": [],
   "source": [
    "def calcularB(n):\n",
    "    \"\"\"\n",
    "    Calcula el valor del bn por integración numérica\n",
    "    Parámetro:\n",
    "        n: indica el término a calcular\n",
    "    Salida:\n",
    "        b: valor de bn\n",
    "    \"\"\"\n",
    "    integral, error = integrate.quad(funcion,0,Lx,args=(n))\n",
    "    b = 2*integral/Lx\n",
    "    return b"
   ]
  },
  {
   "cell_type": "code",
   "execution_count": 5,
   "id": "respected-combine",
   "metadata": {},
   "outputs": [],
   "source": [
    "def AproximarRho(x,t,numTerminos):\n",
    "    \"\"\"\n",
    "    Calcular los valores aproximados de rho en los puntos (x,t)\n",
    "    Parámetros:\n",
    "        x: array de posiciones en el eje x (variable espacial)\n",
    "        y: array de posiciones en el eje t (variable temporal)\n",
    "        numTerminos: cantidad de términos a utilizar en la aproximación\n",
    "    Salidas:\n",
    "        valorAproxRho: array con los valores aproximados de rho en los puntos (x,t)\n",
    "        precision: máxima diferencia en valor absoluto entre las últimas dos aproximaciones\n",
    "    \"\"\"\n",
    "    # Se inicializa el valorAproxRho\n",
    "    valorAproxRho = 0\n",
    "\n",
    "    # Se realiza la sumatoria hasta alcanzar el número de términos solicitado\n",
    "    for n in range(1, numTerminos+1):\n",
    "        # Cálculo de las nuevas aproximaciones de rho\n",
    "        b = calcularB(n)\n",
    "        valorAproxRho += b*np.exp(-((n*np.pi/Lx)**2)*t*D)*np.sin(n*np.pi*x/Lx)\n",
    "    \n",
    "    # Cálculo de la diferencia absoluta entre las últimas dos aproximaciones para todos los puntos\n",
    "    diferencia = np.abs(b*np.exp(-((numTerminos*np.pi/Lx)**2)*t*D)*np.sin(numTerminos*np.pi*x/Lx))\n",
    "    # Cálculo de la precison alcanzada como la máxima diferencia\n",
    "    precision = np.max(diferencia)\n",
    "    \n",
    "    return valorAproxRho, precision"
   ]
  },
  {
   "cell_type": "code",
   "execution_count": 6,
   "id": "vital-suspect",
   "metadata": {},
   "outputs": [],
   "source": [
    "def GraficarRho(puntosMalla,numTerminos):\n",
    "    \"\"\"\n",
    "    Calcula el valor aproximado de rho en todos los puntos de la malla y lo grafica\n",
    "    Parámetros:\n",
    "        puntosMalla: cantidad de puntos en cada eje de la malla\n",
    "        numTerminos: cantidad de términos a utilizar en la aproximación\n",
    "    Salida:\n",
    "        no aplica\n",
    "    \"\"\"\n",
    "    # Se define la malla\n",
    "    x = np.linspace(0,Lx,puntosMalla)\n",
    "    t = np.linspace(0,Lx,puntosMalla)\n",
    "    X,T = np.meshgrid(x,t)\n",
    "    \n",
    "    # Se calcula Rho y la presicion alcanzada\n",
    "    Rho, precision = AproximarRho(X, T, numTerminos)\n",
    "    # Se imprime la precisión alcanzada\n",
    "    print('Precisión: '+str(precision))\n",
    "    \n",
    "    #Graficación\n",
    "    plt.figure(figsize=(10,6)) \n",
    "    ax = plt.axes(projection='3d')\n",
    "    ax.set_xlabel('t (s)')\n",
    "    ax.set_ylabel('x (m)')\n",
    "    ax.set_zlabel('rho (Celsius)')\n",
    "    ax.plot_surface(T, X, Rho, rstride=1, cstride=1, cmap='plasma', edgecolor='none')\n",
    "    ax.set_title('Aproximación Rho por Series de Fourier')\n",
    "    plt.show()\n",
    "    \n",
    "    return"
   ]
  },
  {
   "cell_type": "markdown",
   "id": "cosmetic-concept",
   "metadata": {},
   "source": [
    "## Main"
   ]
  },
  {
   "cell_type": "code",
   "execution_count": 7,
   "id": "continent-nerve",
   "metadata": {},
   "outputs": [
    {
     "data": {
      "application/vnd.jupyter.widget-view+json": {
       "model_id": "c1a3e3b1df5c43d39c81170355e84934",
       "version_major": 2,
       "version_minor": 0
      },
      "text/plain": [
       "interactive(children=(IntSlider(value=30, description='Puntos Malla:', max=50, min=10, step=5), IntSlider(valu…"
      ]
     },
     "metadata": {},
     "output_type": "display_data"
    }
   ],
   "source": [
    "y=interactive(GraficarRho, {'manual': True}, puntosMalla=widgets.IntSlider(min=10.0, max=50.0, step=5.0, value=30.0, description='Puntos Malla:'),\n",
    "              numTerminos=widgets.IntSlider(min=1, max=50, step=1, value=25.0, description='Términos:'))\n",
    "display(y)"
   ]
  }
 ],
 "metadata": {
  "kernelspec": {
   "display_name": "Python 3",
   "language": "python",
   "name": "python3"
  },
  "language_info": {
   "codemirror_mode": {
    "name": "ipython",
    "version": 3
   },
   "file_extension": ".py",
   "mimetype": "text/x-python",
   "name": "python",
   "nbconvert_exporter": "python",
   "pygments_lexer": "ipython3",
   "version": "3.8.3"
  }
 },
 "nbformat": 4,
 "nbformat_minor": 5
}
